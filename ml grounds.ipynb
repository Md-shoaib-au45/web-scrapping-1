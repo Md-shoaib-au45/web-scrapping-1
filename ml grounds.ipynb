{
 "cells": [
  {
   "cell_type": "code",
   "execution_count": 1,
   "id": "edf26247",
   "metadata": {},
   "outputs": [],
   "source": [
    "import selenium"
   ]
  },
  {
   "cell_type": "code",
   "execution_count": 132,
   "id": "12d67621",
   "metadata": {},
   "outputs": [],
   "source": [
    "from selenium import webdriver as wb\n",
    "from time import sleep\n",
    "from webdriver_manager.chrome import ChromeDriverManager"
   ]
  },
  {
   "cell_type": "code",
   "execution_count": 133,
   "id": "8c06977d",
   "metadata": {},
   "outputs": [],
   "source": [
    "driver = wb.Chrome(executable_path=r'C:\\Users\\Mounika Kuntumalla\\Downloads\\chromedriver_win32\\chromedriver.exe')"
   ]
  },
  {
   "cell_type": "code",
   "execution_count": 134,
   "id": "bb859c65",
   "metadata": {},
   "outputs": [],
   "source": [
    "driver.get('https://www.cultbeauty.co.uk/')"
   ]
  },
  {
   "cell_type": "code",
   "execution_count": 137,
   "id": "4a349bd6",
   "metadata": {},
   "outputs": [],
   "source": [
    "obj1=driver.find_element_by_xpath('/html/body/div[1]/div[2]/div[5]/nav/ul/li[3]/a')"
   ]
  },
  {
   "cell_type": "code",
   "execution_count": 138,
   "id": "70aa606c",
   "metadata": {},
   "outputs": [],
   "source": [
    "obj1.click()"
   ]
  },
  {
   "cell_type": "code",
   "execution_count": 141,
   "id": "0db488dc",
   "metadata": {},
   "outputs": [],
   "source": [
    "obj2=driver.find_element_by_xpath('/html/body/div[1]/div[2]/div[7]/div[2]/div[2]/div/a[3]/span')"
   ]
  },
  {
   "cell_type": "code",
   "execution_count": 142,
   "id": "dd9bb536",
   "metadata": {},
   "outputs": [],
   "source": [
    "obj2.click()"
   ]
  },
  {
   "cell_type": "code",
   "execution_count": 143,
   "id": "7a038522",
   "metadata": {},
   "outputs": [],
   "source": [
    "obj3=driver.find_elements_by_class_name('productGridItemInner')"
   ]
  },
  {
   "cell_type": "code",
   "execution_count": 144,
   "id": "262278ed",
   "metadata": {},
   "outputs": [],
   "source": [
    "pp=obj3[0]"
   ]
  },
  {
   "cell_type": "code",
   "execution_count": 145,
   "id": "6d175609",
   "metadata": {
    "scrolled": false
   },
   "outputs": [
    {
     "data": {
      "text/plain": [
       "'https://www.cultbeauty.co.uk/supergoop--unscreen-sunscreen-spf-30.html#af=cat2%3askincare_moisturisers&cip=103.125.161.98&isort=globalpop&lgkey=https%3a%2f%2fwww.cultbeauty.co.uk%2fsupergoop--unscreen-sunscreen-spf-30.html&lgsku=SUP001&lot=json&method=and&p=R&rk=1&rsc=XEtkjGt6-osoOMwr&ts=json-full-uk&ua=Mozilla%2f5.0%20%28Windows%20NT%2010.0%3b%20Win64%3b%20x64%29%20AppleWebKit%2f537.36%20%28KHTML%2c%20like%20Gecko%29%20Chrome%2f92.0.4515.131%20Safari%2f537.36&uid=136240934&url=https%3a%2f%2fwww.cultbeauty.co.uk%2fsupergoop--unscreen-sunscreen-spf-30.html&w=*#clktrack&type=product&list=category&rk=0'"
      ]
     },
     "execution_count": 145,
     "metadata": {},
     "output_type": "execute_result"
    }
   ],
   "source": [
    "pp.get_property('href')"
   ]
  },
  {
   "cell_type": "code",
   "execution_count": 146,
   "id": "016723b8",
   "metadata": {},
   "outputs": [],
   "source": [
    "links=[]\n",
    "for i in range (0,21,1):\n",
    "    pp=obj3[i]\n",
    "    links.append(pp.get_property('href'))\n"
   ]
  },
  {
   "cell_type": "code",
   "execution_count": 147,
   "id": "7a401778",
   "metadata": {},
   "outputs": [],
   "source": [
    "x=driver.find_elements_by_xpath('/html/body/div[2]/div[2]/div[7]/div[2]/div[2]/div/div[1]/div[2]/ul/li[1]')\n",
    "for img in x:\n",
    "    y=img.get_attribute(\"data-big-image\")\n",
    "    print(y)"
   ]
  },
  {
   "cell_type": "code",
   "execution_count": 173,
   "id": "6f657471",
   "metadata": {
    "scrolled": true
   },
   "outputs": [
    {
     "name": "stderr",
     "output_type": "stream",
     "text": [
      "100%|██████████████████████████████████████████████████████████████████████████████████| 21/21 [01:48<00:00,  5.15s/it]\n"
     ]
    }
   ],
   "source": [
    "from tqdm import tqdm\n",
    "alldetails=[]\n",
    "for i in tqdm(links):\n",
    "    driver.get(i)\n",
    "    product_title=driver.find_element_by_xpath('/html/body/div[2]/div[2]/div[7]/div[2]/div[3]/div[1]/div[1]/h1/div').text\n",
    "    price=driver.find_element_by_xpath('/html/body/div[2]/div[2]/div[7]/div[2]/div[3]/div[1]/div[1]/div/span/span[2]').text\n",
    "    category=driver.find_element_by_xpath('/html/body/div[2]/div[2]/div[7]/div[2]/div[3]/div[1]/div[1]/h1/a/div').text\n",
    "    i1=driver.find_elements_by_xpath('/html/body/div[2]/div[2]/div[7]/div[2]/div[2]/div/div[1]/div[2]/ul/li[1]')\n",
    "    for img in i1:\n",
    "        image1=img.get_attribute(\"data-big-image\")\n",
    "    i2=driver.find_elements_by_xpath('/html/body/div[2]/div[2]/div[7]/div[2]/div[2]/div/div[1]/div[2]/ul/li[2]')\n",
    "    for img in i2:\n",
    "        image2=img.get_attribute(\"data-big-image\")\n",
    "    i3=driver.find_elements_by_xpath('/html/body/div[2]/div[2]/div[7]/div[2]/div[2]/div/div[1]/div[2]/ul/li[3]')\n",
    "    for img in i3:\n",
    "        image3=img.get_attribute(\"data-big-image\")\n",
    "    i4=driver.find_elements_by_xpath('/html/body/div[2]/div[2]/div[7]/div[2]/div[2]/div/div[1]/div[2]/ul/li[4]')\n",
    "    for img in i4:\n",
    "        image4=img.get_attribute(\"data-big-image\")\n",
    "    i5=driver.find_elements_by_xpath('/html/body/div[2]/div[2]/div[7]/div[2]/div[2]/div/div[1]/div[2]/ul/li[5]')\n",
    "    for img in i5:\n",
    "        image5=img.get_attribute(\"data-big-image\")\n",
    "    iil=driver.find_element_by_xpath('/html/body/div[2]/div[2]/div[7]/div[2]/div[3]/div[3]/ul/li[2]/div[1]/i')\n",
    "    iil.click()\n",
    "    id1=driver.find_elements_by_xpath('/html/body/div[2]/div[2]/div[7]/div[2]/div[3]/div[3]/ul/li[2]')\n",
    "    for value in id1:\n",
    "        du=value.text\n",
    "    temp={'productlink':i,'product_title':product_title,'category':category,'price':price,'image1':image1,'image2':image2,'image3':image3,'image4':image4,'image5':image5,'decription':du}\n",
    "    alldetails.append(temp)"
   ]
  },
  {
   "cell_type": "code",
   "execution_count": null,
   "id": "419e030c",
   "metadata": {},
   "outputs": [],
   "source": []
  },
  {
   "cell_type": "code",
   "execution_count": 169,
   "id": "640363be",
   "metadata": {},
   "outputs": [],
   "source": [
    "import pandas as pd"
   ]
  },
  {
   "cell_type": "code",
   "execution_count": 174,
   "id": "a323106f",
   "metadata": {
    "scrolled": true
   },
   "outputs": [],
   "source": [
    "df=pd.DataFrame(alldetails)"
   ]
  },
  {
   "cell_type": "code",
   "execution_count": 176,
   "id": "6c813ee0",
   "metadata": {},
   "outputs": [],
   "source": [
    "df.to_csv(r\"C:\\Users\\Mounika Kuntumalla\\Desktop\\finalcsv.csv\")"
   ]
  },
  {
   "cell_type": "code",
   "execution_count": 175,
   "id": "34842ecf",
   "metadata": {},
   "outputs": [],
   "source": [
    "df.to_excel(r\"C:\\Users\\Mounika Kuntumalla\\Desktop\\finalexcel.xlsx\")"
   ]
  }
 ],
 "metadata": {
  "kernelspec": {
   "display_name": "Python 3",
   "language": "python",
   "name": "python3"
  },
  "language_info": {
   "codemirror_mode": {
    "name": "ipython",
    "version": 3
   },
   "file_extension": ".py",
   "mimetype": "text/x-python",
   "name": "python",
   "nbconvert_exporter": "python",
   "pygments_lexer": "ipython3",
   "version": "3.8.5"
  }
 },
 "nbformat": 4,
 "nbformat_minor": 5
}
